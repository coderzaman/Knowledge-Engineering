{
  "nbformat": 4,
  "nbformat_minor": 0,
  "metadata": {
    "colab": {
      "provenance": []
    },
    "kernelspec": {
      "name": "python3",
      "display_name": "Python 3"
    },
    "language_info": {
      "name": "python"
    }
  },
  "cells": [
    {
      "cell_type": "markdown",
      "source": [
        "**1. Variables**"
      ],
      "metadata": {
        "id": "vDg5aVeGD0jT"
      }
    },
    {
      "cell_type": "markdown",
      "source": [
        "1. Ask the user for their name and age, then print a sentence like:"
      ],
      "metadata": {
        "id": "K3TZaWrkMMLf"
      }
    },
    {
      "cell_type": "code",
      "execution_count": null,
      "metadata": {
        "id": "X7TF0ZLQCfGd",
        "colab": {
          "base_uri": "https://localhost:8080/"
        },
        "outputId": "534f23ac-371d-45f5-cd98-f718f47eef8a"
      },
      "outputs": [
        {
          "output_type": "stream",
          "name": "stdout",
          "text": [
            "Please Enter Your Name: Aktar\n",
            "Please Enter Your Age: 26\n",
            "\n",
            "Hello Aktar! You are 26 years old.\n"
          ]
        }
      ],
      "source": [
        "name = input(\"Please Enter Your Name: \")\n",
        "age = input(\"Please Enter Your Age: \")\n",
        "\n",
        "print(f\"\\nHello {name}! You are {age} years old.\")"
      ]
    },
    {
      "cell_type": "markdown",
      "source": [
        "2. Ask for two numbers and store them in variables. Print their sum."
      ],
      "metadata": {
        "id": "gNN6S22QMVUc"
      }
    },
    {
      "cell_type": "code",
      "source": [
        "num1 = int(input(\"Please Enter First Number: \"))\n",
        "num2 = int(input(\"Please Enter Second Number: \"))\n",
        "\n",
        "print(f\"\\n{num1} + {num2} = {num1 + num2}\")"
      ],
      "metadata": {
        "colab": {
          "base_uri": "https://localhost:8080/"
        },
        "id": "pp9sN5lmMeBb",
        "outputId": "f80dd0d3-fd6a-4ed5-81db-581c94bcec0a"
      },
      "execution_count": null,
      "outputs": [
        {
          "output_type": "stream",
          "name": "stdout",
          "text": [
            "Please Enter First Number: 50\n",
            "Please Enter Second Number: 40\n",
            "\n",
            "50 + 40 = 90\n"
          ]
        }
      ]
    },
    {
      "cell_type": "markdown",
      "source": [
        "**2. Operators**"
      ],
      "metadata": {
        "id": "-_DjbfzeD5ki"
      }
    },
    {
      "cell_type": "markdown",
      "source": [
        "1. Take two numbers as input and perform:"
      ],
      "metadata": {
        "id": "VYb7jShEEfLg"
      }
    },
    {
      "cell_type": "code",
      "source": [
        "num1 = int(input(\"Please Enter First Number: \"))\n",
        "num2 = int(input(\"Please Enter Second Number: \"))\n",
        "\n",
        "print(f\"\\n{num1} + {num2} = {num1 + num2}\")\n",
        "print(f\"\\n{num1} - {num2} = {num1 - num2}\")\n",
        "print(f\"\\n{num1} * {num2} = {num1 * num2}\")\n",
        "print(f\"\\n{num1} / {num2} = {num1 / num2}\")"
      ],
      "metadata": {
        "colab": {
          "base_uri": "https://localhost:8080/"
        },
        "id": "aZg3nzxlD6jy",
        "outputId": "f6ef13b1-52a1-432c-a9a7-70d283918d73"
      },
      "execution_count": null,
      "outputs": [
        {
          "output_type": "stream",
          "name": "stdout",
          "text": [
            "Please Enter First Number: 31\n",
            "Please Enter Second Number: 31\n",
            "\n",
            "31 + 31 = 62\n",
            "\n",
            "31 - 31 = 0\n",
            "\n",
            "31 * 31 = 961\n",
            "\n",
            "31 / 31 = 1.0\n"
          ]
        }
      ]
    },
    {
      "cell_type": "markdown",
      "source": [
        "2. Input a number and check if it is even or odd using the modulo operator."
      ],
      "metadata": {
        "id": "LgLod_zWEhSX"
      }
    },
    {
      "cell_type": "code",
      "source": [
        "num1 = int(input(\"Please Enter First Number: \"))\n",
        "\n",
        "if num1 % 2 == 0:\n",
        "  print(f\"\\n{num1} is Even number\")\n",
        "else:\n",
        "  print(f\"\\n{num1} is Odd number\")"
      ],
      "metadata": {
        "colab": {
          "base_uri": "https://localhost:8080/"
        },
        "id": "EI-0dAg0Ep3Y",
        "outputId": "7dde9007-f92e-4372-9139-185cf19dce31"
      },
      "execution_count": null,
      "outputs": [
        {
          "output_type": "stream",
          "name": "stdout",
          "text": [
            "Please Enter First Number: 5\n",
            "\n",
            "5 is Odd number\n"
          ]
        }
      ]
    },
    {
      "cell_type": "markdown",
      "source": [
        "**📜 3. If-Else Conditions**"
      ],
      "metadata": {
        "id": "h6DmXoA-E_Y5"
      }
    },
    {
      "cell_type": "markdown",
      "source": [
        "1. Input a number and check if it is positive, negative, or zero."
      ],
      "metadata": {
        "id": "9aKrxbZwFFPq"
      }
    },
    {
      "cell_type": "code",
      "source": [
        "num = int(input(\"Please Enter First Number: \"))\n",
        "\n",
        "if num > 0:\n",
        "  print(f\"\\n{num} is Positive number\")\n",
        "elif num < 0:\n",
        "  print(f\"\\n{num} is Negative number\")\n",
        "else:\n",
        "  print(f\"\\n{num} is Zero\")\n"
      ],
      "metadata": {
        "colab": {
          "base_uri": "https://localhost:8080/"
        },
        "id": "iJXCUsAbFIWy",
        "outputId": "9a4903a9-c78e-4f47-f195-a998d1ba7f79"
      },
      "execution_count": null,
      "outputs": [
        {
          "output_type": "stream",
          "name": "stdout",
          "text": [
            "Please Enter First Number: 5\n",
            "\n",
            "5 is Positive number\n"
          ]
        }
      ]
    },
    {
      "cell_type": "markdown",
      "source": [
        "2. Input age and check if the user is eligible to vote (18+)."
      ],
      "metadata": {
        "id": "Y9B9COcfFURD"
      }
    },
    {
      "cell_type": "code",
      "source": [
        "age = int(input(\"Enter your age: \"))\n",
        "\n",
        "if age >= 18:\n",
        "  print(\"You are eligible to vote\")\n",
        "else:\n",
        "  print(\"You are not eligible to vote\")"
      ],
      "metadata": {
        "id": "Wom81VLlFT_o"
      },
      "execution_count": null,
      "outputs": []
    },
    {
      "cell_type": "markdown",
      "source": [
        "3. Input three numbers and print the greatest one."
      ],
      "metadata": {
        "id": "rntMXOgMFlsE"
      }
    },
    {
      "cell_type": "code",
      "source": [
        "num1 = int(input(\"Please Enter First Number: \"))\n",
        "num2 = int(input(\"Please Enter Second Number: \"))\n",
        "num3 = int(input(\"Please Enter Third Number: \"))\n",
        "\n",
        "if num1 > num2 and num1 > num3:\n",
        "  print(f\"\\n{num1} is the greatest number\")\n",
        "if num2 > num3:\n",
        "  print(f\"\\n{num2} is the greatest number\")\n",
        "else:\n",
        "  print(f\"\\n{num3} is the greatest number\")"
      ],
      "metadata": {
        "colab": {
          "base_uri": "https://localhost:8080/"
        },
        "id": "Dug1LYdKFpT9",
        "outputId": "24532e95-a823-4e66-bfe3-a10ac5f6237b"
      },
      "execution_count": null,
      "outputs": [
        {
          "output_type": "stream",
          "name": "stdout",
          "text": [
            "Please Enter First Number: 10\n",
            "Please Enter Second Number: 50\n",
            "Please Enter Third Number: 5\n",
            "\n",
            "50 is the greatest number\n"
          ]
        }
      ]
    },
    {
      "cell_type": "markdown",
      "source": [
        "**4. For Loops**"
      ],
      "metadata": {
        "id": "b1eHHILnGj7I"
      }
    },
    {
      "cell_type": "markdown",
      "source": [
        "1. Input a number n and print numbers from 1 to n."
      ],
      "metadata": {
        "id": "lPXZ4z62Gq8x"
      }
    },
    {
      "cell_type": "code",
      "source": [
        "n = int(input(\"Enter n: \"))\n",
        "\n",
        "for i in range(1, n+1):\n",
        "  print(i)"
      ],
      "metadata": {
        "colab": {
          "base_uri": "https://localhost:8080/"
        },
        "id": "MU_bIabVGf5d",
        "outputId": "73151c83-a409-4f1c-8b29-9f4a15e958b7"
      },
      "execution_count": null,
      "outputs": [
        {
          "output_type": "stream",
          "name": "stdout",
          "text": [
            "Enter n: 5\n",
            "1\n",
            "2\n",
            "3\n",
            "4\n",
            "5\n"
          ]
        }
      ]
    },
    {
      "cell_type": "markdown",
      "source": [
        "2. Input a word and print each character one by one using a for loop."
      ],
      "metadata": {
        "id": "6Y-at7veHIFK"
      }
    },
    {
      "cell_type": "code",
      "source": [
        "word = input(\"Enter n: \")\n",
        "\n",
        "for x in word:\n",
        "  print(x)"
      ],
      "metadata": {
        "colab": {
          "base_uri": "https://localhost:8080/"
        },
        "id": "uec3KcirHI4R",
        "outputId": "154986b1-744d-4a61-f100-35ad24023186"
      },
      "execution_count": null,
      "outputs": [
        {
          "output_type": "stream",
          "name": "stdout",
          "text": [
            "Enter n: Aktar\n",
            "A\n",
            "k\n",
            "t\n",
            "a\n",
            "r\n"
          ]
        }
      ]
    },
    {
      "cell_type": "markdown",
      "source": [
        "**6. Input and Output (General Practice)**"
      ],
      "metadata": {
        "id": "KKzceJN3HeTL"
      }
    },
    {
      "cell_type": "markdown",
      "source": [
        "Ask the user for their city and country, and print:"
      ],
      "metadata": {
        "id": "QeC3ZYzDHoET"
      }
    },
    {
      "cell_type": "code",
      "source": [
        "city = input(\"Enter your city: \")\n",
        "country = input(\"Enter your country: \")\n",
        "\n",
        "print(f\"\\nYou live in [{city}], [{country}]\")\n",
        "\n"
      ],
      "metadata": {
        "colab": {
          "base_uri": "https://localhost:8080/"
        },
        "id": "bpIfLN3rHrxL",
        "outputId": "cc5753be-778f-4f91-e92d-1fe058783ff4"
      },
      "execution_count": null,
      "outputs": [
        {
          "output_type": "stream",
          "name": "stdout",
          "text": [
            "Enter your city: Cox's Bazar\n",
            "Enter your country: Bangladesh\n",
            "\n",
            "You live in [Cox's Bazar], [Bangladesh]\n"
          ]
        }
      ]
    },
    {
      "cell_type": "markdown",
      "source": [
        "2. Ask the user their favorite color and food, then output a sentence using both."
      ],
      "metadata": {
        "id": "HNX31DzsIGPE"
      }
    },
    {
      "cell_type": "code",
      "source": [
        "fav_color = input(\"Enter your Favourite Color: \")\n",
        "fav_food = input(\"Enter your Favourite Food: \")\n",
        "\n",
        "print(f\"\\nYou Favorite Color is: {fav_color}, and Favorite Food is: {fav_food}\")"
      ],
      "metadata": {
        "colab": {
          "base_uri": "https://localhost:8080/"
        },
        "id": "JDxGurybIHNM",
        "outputId": "02997b76-6d60-4163-894c-bb7b635d2370"
      },
      "execution_count": null,
      "outputs": [
        {
          "output_type": "stream",
          "name": "stdout",
          "text": [
            "Enter your Favourite Color: Black\n",
            "Enter your Favourite Food: Foods\n",
            "\n",
            "You Favorite Color is: Black, and Favorite Food is: Foods\n"
          ]
        }
      ]
    },
    {
      "cell_type": "markdown",
      "source": [
        "**7. Strings**"
      ],
      "metadata": {
        "id": "oHz1x3M4I9G-"
      }
    },
    {
      "cell_type": "markdown",
      "source": [
        "1. Input a name and print it in uppercase and lowercase.."
      ],
      "metadata": {
        "id": "nZBwq1UwJB6m"
      }
    },
    {
      "cell_type": "code",
      "source": [
        "name = input(\"Enter your name: \")\n",
        "print(f\"\\nUppercase Name: {name.upper()}\\nLowercase Name: {name.lower()}\")"
      ],
      "metadata": {
        "colab": {
          "base_uri": "https://localhost:8080/"
        },
        "id": "MeBr1tPZI8nt",
        "outputId": "65b9312c-0021-4bb9-9b00-d7258db04303"
      },
      "execution_count": null,
      "outputs": [
        {
          "output_type": "stream",
          "name": "stdout",
          "text": [
            "Enter your name: Aktar\n",
            "\n",
            "Uppercase Name: AKTAR\n",
            "Lowercase Name: aktar\n"
          ]
        }
      ]
    },
    {
      "cell_type": "markdown",
      "source": [
        "2. Input a name and print the length of it."
      ],
      "metadata": {
        "id": "xao67iUhJuU8"
      }
    },
    {
      "cell_type": "code",
      "source": [
        "name = input(\"Enter your name: \")\n",
        "print(\"Length of your name is:\", len(name))"
      ],
      "metadata": {
        "colab": {
          "base_uri": "https://localhost:8080/"
        },
        "id": "-haIpMDkJvJW",
        "outputId": "6d03e034-944c-41e9-f633-899619b2601f"
      },
      "execution_count": null,
      "outputs": [
        {
          "output_type": "stream",
          "name": "stdout",
          "text": [
            "Enter your name: Aktar\n",
            "Length of your name is: 5\n"
          ]
        }
      ]
    },
    {
      "cell_type": "markdown",
      "source": [
        "**9. String Formatting**"
      ],
      "metadata": {
        "id": "-1kJJ6gvJ_gP"
      }
    },
    {
      "cell_type": "markdown",
      "source": [
        "1. Input name and marks. Print:"
      ],
      "metadata": {
        "id": "R_aTtLJjKFY9"
      }
    },
    {
      "cell_type": "code",
      "source": [
        "name = input(\"Enter your name: \")\n",
        "marks = float(input(\"Enter your marks: \"))\n",
        "print(f\"\\n{name.title()} scored {marks} marks\")"
      ],
      "metadata": {
        "colab": {
          "base_uri": "https://localhost:8080/"
        },
        "id": "7EBiQUhhKJ-V",
        "outputId": "bb7815cc-41c5-4da1-c600-c3c305607750"
      },
      "execution_count": null,
      "outputs": [
        {
          "output_type": "stream",
          "name": "stdout",
          "text": [
            "Enter your name: aktar\n",
            "Enter your marks: 85\n",
            "\n",
            "Aktar scored 85.0 marks\n"
          ]
        }
      ]
    },
    {
      "cell_type": "markdown",
      "source": [
        "2. Take three inputs: name, age, city. Output:"
      ],
      "metadata": {
        "id": "1TCLY8HAKjTB"
      }
    },
    {
      "cell_type": "code",
      "source": [
        "name = input(\"Enter your name: \")\n",
        "age = int(input(\"Enter your age: \"))\n",
        "city = input(\"Enter your city: \")\n",
        "print(f\"\\n{name} is {age} years old and you live in {city}\")"
      ],
      "metadata": {
        "colab": {
          "base_uri": "https://localhost:8080/"
        },
        "id": "shBe_OIKKllJ",
        "outputId": "26650a21-b5c4-4cbd-a55f-12a3772e7fb2"
      },
      "execution_count": null,
      "outputs": [
        {
          "output_type": "stream",
          "name": "stdout",
          "text": [
            "Enter your name: Aktar\n",
            "Enter your age: 20\n",
            "Enter your city: Dhaka\n",
            "\n",
            "Aktar is 20 years old and you live in Dhaka\n"
          ]
        }
      ]
    }
  ]
}